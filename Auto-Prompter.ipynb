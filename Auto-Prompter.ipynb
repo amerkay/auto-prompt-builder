{
 "cells": [
  {
   "cell_type": "markdown",
   "metadata": {},
   "source": [
    "# AutoPrompt - Auto Write Evaluation Prompt\n"
   ]
  },
  {
   "cell_type": "markdown",
   "metadata": {},
   "source": [
    "## The Idea\n"
   ]
  },
  {
   "cell_type": "markdown",
   "metadata": {},
   "source": [
    "It's hard to know what the right prompt is, and it's hard to know if you've found it. This project aims to automate the process of finding the perfect evaluation prompt.\n"
   ]
  },
  {
   "cell_type": "markdown",
   "metadata": {},
   "source": [
    "## Let's build it!\n"
   ]
  },
  {
   "cell_type": "code",
   "execution_count": null,
   "metadata": {},
   "outputs": [],
   "source": [
    "import os\n",
    "import json\n",
    "\n",
    "from langchain.cache import SQLiteCache\n",
    "from langchain.globals import set_llm_cache\n",
    "\n",
    "from utils import save_tmp_file, load_model\n",
    "from data_handling import load_and_clean_dataset\n",
    "from evaluate_against_dataset import EvaluateAgainstDataset\n",
    "from generate_prompt_initial import GeneratePromptInitial\n",
    "from generate_prompt_update import GeneratePromptUpdate\n",
    "from generate_expert_plans import GenerateExpertPlans\n",
    "from previous_attempts import PreviousAttempts, Attempt"
   ]
  },
  {
   "cell_type": "markdown",
   "metadata": {},
   "source": [
    "### The configs\n"
   ]
  },
  {
   "cell_type": "code",
   "execution_count": null,
   "metadata": {},
   "outputs": [],
   "source": [
    "# DATASET_FILE = \"./datasets/sentiment_analysis_examples_25.csv\"\n",
    "# DATASET_FILE = \"./datasets/dataset-writing-style-v-not-v.xlsx\"\n",
    "# DATASET_FILE = \"./datasets/writing-style.xlsx\"\n",
    "DATASET_FILE = \"./datasets/writing-style-30-100-words.xlsx\"\n",
    "\n",
    "# Seed Idea for prompt generation\n",
    "# IDEA_SEED = \"\"\"Decide the sentiment of the input text.\"\"\"\n",
    "IDEA_SEED = \"\"\"Compare the writing style of the two pieces of text. Your OUTPUT MUST ONLY take the writing style into consideration, NOT the meaning or thematic similarity of the texts.\"\"\".strip()\n",
    "\n",
    "\n",
    "# Initial prompt. If `None`, the initial prompt will be generated automatically\n",
    "# PROMPT_TO_EVAL_FILE = None\n",
    "# PROMPT_TO_EVAL_FILE = \"_scored_100/writing-style-01-gpt-turbo-3.5-temp-0.3.md\"\n",
    "\n",
    "# Maximum number of rows to use from the dataset for initial prompt generation\n",
    "ROWS_INITIAL = 25\n",
    "# Maximum number of rows in each chunk\n",
    "ROWS_MAX = 3\n",
    "# Number of rows to use as `incorrect` examples\n",
    "ROWS_INCORRECT = 10\n",
    "\n",
    "\n",
    "# Use Few or Zero Shot?\n",
    "IS_FEW_SHOT = True\n",
    "EVAL_CONCURRENCY = 10\n",
    "\n",
    "\n",
    "# Stopping criteria (inclusive)\n",
    "GOAL_ACCURACY = 97\n",
    "MAX_ATTEMPTS_PER_PLAN = 5\n",
    "\n",
    "\n",
    "# Model configurations\n",
    "MODEL_PROMPT_WRITER_NAME = \"gpt-4-1106-preview\"\n",
    "# MODEL_PROMPT_WRITER_NAME = \"gpt-3.5-turbo\"\n",
    "# MODEL_PROMPT_WRITER_NAME = \"mistralai/Mixtral-8x7B-Instruct-v0.1\"\n",
    "MODEL_PROMPT_WRITER_TEMPERATURE = 0.4\n",
    "MODEL_PROMPT_WRITER_MAX_TOKENS = 2000\n",
    "\n",
    "MODEL_EVALUATE_NAME = \"gpt-3.5-turbo\"\n",
    "# MODEL_EVALUATE_NAME = \"gpt-4-1106-preview\"\n",
    "# MODEL_EVALUATE_NAME = \"mistralai/Mixtral-8x7B-Instruct-v0.1\"\n",
    "# MODEL_EVALUATE_NAME = \"togethercomputer/llama-2-70b-chat\"\n",
    "MODEL_EVALUATE_TEMPERATURE = 0.1\n",
    "MODEL_EVALUATE_MAX_TOKENS = 1400"
   ]
  },
  {
   "cell_type": "markdown",
   "metadata": {},
   "source": [
    "### Load Models\n"
   ]
  },
  {
   "cell_type": "code",
   "execution_count": null,
   "metadata": {},
   "outputs": [],
   "source": [
    "# Set up LangChain models\n",
    "\n",
    "# if both model names start with `gpt-`, set cache\n",
    "if MODEL_PROMPT_WRITER_NAME.startswith(\"gpt-\") and MODEL_EVALUATE_NAME.startswith(\n",
    "    \"gpt-\"\n",
    "):\n",
    "    print(\"Enabling LLM cache...\")\n",
    "    set_llm_cache(SQLiteCache(database_path=\".langchain.db\"))\n",
    "\n",
    "\n",
    "# Setup the prompt writer model\n",
    "model_prompt_writer = load_model(\n",
    "    MODEL_PROMPT_WRITER_NAME,\n",
    "    MODEL_PROMPT_WRITER_TEMPERATURE,\n",
    "    MODEL_PROMPT_WRITER_MAX_TOKENS,\n",
    ")\n",
    "\n",
    "# Setup the evaluation model\n",
    "model_evaluate = load_model(\n",
    "    MODEL_EVALUATE_NAME,\n",
    "    MODEL_EVALUATE_TEMPERATURE,\n",
    "    MODEL_EVALUATE_MAX_TOKENS,\n",
    ")"
   ]
  },
  {
   "cell_type": "markdown",
   "metadata": {},
   "source": [
    "### Load the dataset\n"
   ]
  },
  {
   "cell_type": "code",
   "execution_count": null,
   "metadata": {},
   "outputs": [],
   "source": [
    "# empty ./_tmp directory\n",
    "for filename in os.listdir(\"_tmp\"):\n",
    "    os.remove(os.path.join(\"_tmp\", filename))\n",
    "\n",
    "# Load the dataset\n",
    "df_all = load_and_clean_dataset(DATASET_FILE)\n",
    "\n",
    "# If df_all has more rows than ROWS_INITIAL, take the first ROWS_INITIAL rows\n",
    "df_sample = df_all\n",
    "if len(df_all) > ROWS_INITIAL:\n",
    "    df_sample = df_all.head(ROWS_INITIAL)\n",
    "\n",
    "df_sample"
   ]
  },
  {
   "cell_type": "markdown",
   "metadata": {},
   "source": [
    "### Generate the Initial Expert Ideas\n"
   ]
  },
  {
   "cell_type": "code",
   "execution_count": null,
   "metadata": {},
   "outputs": [],
   "source": [
    "# Generate the expert ToT plans\n",
    "gen_expert_plans = GenerateExpertPlans(\n",
    "    model=model_prompt_writer, df_sample=df_sample, idea_seed=IDEA_SEED\n",
    ")\n",
    "ranked_expert_plans = gen_expert_plans.invoke()\n",
    "# print(json.dumps(ranked_expert_plans, indent=2))\n",
    "\n",
    "\n",
    "# Create an instance of the EvalAgainstDataset class\n",
    "evaluator = EvaluateAgainstDataset(\n",
    "    model=model_evaluate,\n",
    "    df_original=df_all,\n",
    "    max_chunk_rows=ROWS_MAX,\n",
    "    concurrency=EVAL_CONCURRENCY,\n",
    ")\n",
    "\n",
    "# Init global variables\n",
    "previous_attempts, prompt_str, accuracy = None, None, None\n",
    "\n",
    "# Loop through the expert plans\n",
    "for i, plan in enumerate(ranked_expert_plans):\n",
    "    # The prompt counter used for the main loop\n",
    "    attempt_no = 1\n",
    "\n",
    "    # The previous attempts list\n",
    "    previous_attempts = PreviousAttempts(df_all_length=len(df_all))\n",
    "\n",
    "    # the plan\n",
    "    plan_text = plan.to_string(idea_seed=IDEA_SEED)\n",
    "\n",
    "    print(\"\\n=====================\\n=====================\\n\")\n",
    "    print(f\"Plan {plan.id}:\")\n",
    "    print(plan_text, \"\\n\")\n",
    "\n",
    "    # Generate the initial prompt for this plan\n",
    "    gen_prompt_initial = GeneratePromptInitial(\n",
    "        model=model_prompt_writer,\n",
    "        is_few_shot=IS_FEW_SHOT,\n",
    "        df_sample=df_sample,\n",
    "        idea_seed=plan_text,\n",
    "        plan_id=plan.id,\n",
    "    )\n",
    "    prompt_str = gen_prompt_initial.invoke()\n",
    "\n",
    "    # Test the Initial Prompt against the dataset\n",
    "    df_generated, accuracy = evaluator.invoke(\n",
    "        prompt_str=prompt_str, plan_id=plan.id, attempt_no=attempt_no\n",
    "    )\n",
    "\n",
    "    previous_attempts.add(\n",
    "        Attempt(attempt_no=attempt_no, accuracy=accuracy, changes_made=\"First attempt.\")\n",
    "    )\n",
    "\n",
    "    ## The Main loop to auto-magically improve the prompt ###\n",
    "    ## Runs until the prompt is good enough (or max loops is reached).\n",
    "    while accuracy < GOAL_ACCURACY and attempt_no < MAX_ATTEMPTS_PER_PLAN:\n",
    "        attempt_no = attempt_no + 1\n",
    "        \n",
    "        # Generate the updated prompt for this plan\n",
    "        gen_prompt_update = GeneratePromptUpdate(\n",
    "            model=model_prompt_writer,\n",
    "            attempt_no=attempt_no,\n",
    "            plan_id=plan.id,\n",
    "            idea_seed=plan_text,\n",
    "            previous_attempts=previous_attempts,\n",
    "            max_rows_incorrect=ROWS_INCORRECT,\n",
    "        )\n",
    "        prompt_str, changes_made_str = gen_prompt_update.invoke_with_retry(\n",
    "            df_generated=df_generated,\n",
    "            prompt_previous=prompt_str,\n",
    "        )\n",
    "\n",
    "        # Test the Updated Prompt against the dataset\n",
    "        df_generated, accuracy = evaluator.invoke(\n",
    "            prompt_str=prompt_str, plan_id=plan.id, attempt_no=attempt_no\n",
    "        )\n",
    "\n",
    "        previous_attempts.add(\n",
    "            Attempt(\n",
    "                attempt_no=attempt_no, accuracy=accuracy, changes_made=changes_made_str\n",
    "            )\n",
    "        )\n",
    "\n",
    "        # print(json.dumps(previous_attempts, indent=2))\n",
    "        print(\"\\n---\\n\" + previous_attempts.to_string() + \"---\\n\")\n",
    "\n",
    "    if accuracy >= GOAL_ACCURACY:\n",
    "        break\n",
    "\n",
    "    if i >= 0:\n",
    "        print(f\"TEMP: Stopping because we've tried {i+1} plans already.\")\n",
    "        break\n",
    "\n",
    "\n",
    "# print(f\"\\n\\nFinal prompt:\\n{prompt_generated_str}\")\n",
    "save_tmp_file(\"10-prompt_final.md\", prompt_str)\n",
    "print(f\"\\nFinal prompt saved with accuracy {accuracy:.2f}%\")"
   ]
  },
  {
   "cell_type": "code",
   "execution_count": null,
   "metadata": {},
   "outputs": [],
   "source": [
    "# # If PROMPT_TO_EVAL_FILE is not None, load the prompt from the file\n",
    "# prompt_str = \"\"\n",
    "# if PROMPT_TO_EVAL_FILE is not None:\n",
    "#     print(f\"Loading prompt from {PROMPT_TO_EVAL_FILE}\")\n",
    "#     with open(PROMPT_TO_EVAL_FILE, \"r\") as f:\n",
    "#         prompt_str = f.read()"
   ]
  }
 ],
 "metadata": {
  "kernelspec": {
   "display_name": "default",
   "language": "python",
   "name": "python3"
  },
  "language_info": {
   "codemirror_mode": {
    "name": "ipython",
    "version": 3
   },
   "file_extension": ".py",
   "mimetype": "text/x-python",
   "name": "python",
   "nbconvert_exporter": "python",
   "pygments_lexer": "ipython3",
   "version": "3.11.6"
  }
 },
 "nbformat": 4,
 "nbformat_minor": 2
}
